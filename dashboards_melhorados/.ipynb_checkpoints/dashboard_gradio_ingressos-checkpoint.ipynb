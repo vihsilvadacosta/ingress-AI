{
 "cells": [
  {
   "cell_type": "markdown",
   "id": "aecbe215",
   "metadata": {},
   "source": [
    "# 🧪 Interface Gradio para Explorar Logs"
   ]
  },
  {
   "cell_type": "code",
   "execution_count": 1,
   "id": "b8a465b3",
   "metadata": {
    "scrolled": true
   },
   "outputs": [
    {
     "name": "stdout",
     "output_type": "stream",
     "text": [
      "* Running on local URL:  http://127.0.0.1:7860\n",
      "* To create a public link, set `share=True` in `launch()`.\n"
     ]
    },
    {
     "data": {
      "text/html": [
       "<div><iframe src=\"http://127.0.0.1:7860/\" width=\"100%\" height=\"500\" allow=\"autoplay; camera; microphone; clipboard-read; clipboard-write;\" frameborder=\"0\" allowfullscreen></iframe></div>"
      ],
      "text/plain": [
       "<IPython.core.display.HTML object>"
      ]
     },
     "metadata": {},
     "output_type": "display_data"
    },
    {
     "data": {
      "text/plain": []
     },
     "execution_count": 1,
     "metadata": {},
     "output_type": "execute_result"
    }
   ],
   "source": [
    "import sqlite3\n",
    "import pandas as pd\n",
    "import plotly.express as px\n",
    "import gradio as gr\n",
    "\n",
    "# 📥 Carregar dados de compras de ingressos\n",
    "def carregar_dados_ingressos():\n",
    "    conn = sqlite3.connect(\"../database.db\")\n",
    "    query = \"\"\"\n",
    "        SELECT u.id AS usuario_id, u.nome, u.email, l.acao_usuario as acao, l.data_hora\n",
    "        FROM logs l\n",
    "        JOIN usuarios u ON u.id = l.usuario_id\n",
    "        WHERE l.acao_usuario LIKE 'Compra do ingresso ID%'\n",
    "    \"\"\"\n",
    "    df = pd.read_sql_query(query, conn)\n",
    "    conn.close()\n",
    "\n",
    "    df['data_hora'] = pd.to_datetime(df['data_hora'])\n",
    "    df['evento'] = df['acao'].str.replace(\"Compra do ingresso ID \", \"Ingresso \")\n",
    "    df['data'] = df['data_hora'].dt.date\n",
    "    return df[['usuario_id', 'nome', 'email', 'evento', 'data', 'data_hora']]\n",
    "\n",
    "\n",
    "# 🎯 Gerar gráficos com múltiplos filtros\n",
    "def gerar_dashboard_ingressos(email=\"\", nome=\"\", usuario_id=\"\"):\n",
    "    df = carregar_dados_ingressos()\n",
    "\n",
    "    if email:\n",
    "        df = df[df['email'].str.contains(email, case=False, na=False)]\n",
    "    if nome:\n",
    "        df = df[df['nome'].str.contains(nome, case=False, na=False)]\n",
    "    if usuario_id:\n",
    "        try:\n",
    "            usuario_id = int(usuario_id)\n",
    "            df = df[df['usuario_id'] == usuario_id]\n",
    "        except:\n",
    "            return \"⚠️ ID inválido.\", None, None, None, None\n",
    "\n",
    "    if df.empty:\n",
    "        return \"⚠️ Nenhuma compra encontrada com os filtros aplicados.\", None, None, None, None\n",
    "\n",
    "    # 🎫 Gráfico 1: Compras por evento\n",
    "    evento_count = df['evento'].value_counts().reset_index()\n",
    "    evento_count.columns = ['Evento', 'Quantidade']\n",
    "    fig1 = px.bar(evento_count, x='Evento', y='Quantidade', title='🎫 Quantidade de Compras por Evento')\n",
    "\n",
    "    # 👤 Gráfico 2: Compras por usuário\n",
    "    user_count = df.groupby(['nome'])['evento'].count().reset_index(name='Compras')\n",
    "    fig2 = px.bar(user_count, x='nome', y='Compras', title='👤 Quantidade de Compras por Usuário')\n",
    "\n",
    "    # 📅 Gráfico 3: Compras por data (em pt-BR)\n",
    "    data_count = df['data'].value_counts().sort_index().reset_index()\n",
    "    data_count.columns = ['Data', 'Quantidade']\n",
    "    data_count['Data'] = data_count['Data'].apply(lambda d: d.strftime('%d/%m/%Y'))\n",
    "    fig3 = px.line(data_count, x='Data', y='Quantidade', markers=True, title='📆 Evolução Diária de Compras de Ingressos')\n",
    "\n",
    "    # 🥧 Gráfico 4: Pizza por evento\n",
    "    fig4 = px.pie(evento_count, names='Evento', values='Quantidade', title='🥧 Distribuição de Compras por Evento')\n",
    "\n",
    "    return \"✅ Compras carregadas com sucesso!\", fig1, fig2, fig3, fig4\n",
    "\n",
    "# 🌐 Interface Gradio com múltiplos filtros\n",
    "with gr.Blocks(title=\"Dashboard de Compras de Ingressos\") as app:\n",
    "    gr.Markdown(\"## 🎟️ Dashboard de Compras de Ingressos\")\n",
    "    gr.Markdown(\"Use os campos abaixo para filtrar as compras por ID, nome ou email do usuário:\")\n",
    "\n",
    "    with gr.Row():\n",
    "        id_input = gr.Textbox(label=\"🆔 ID do Usuário\", placeholder=\"Ex: 1\")\n",
    "        nome_input = gr.Textbox(label=\"👤 Nome do Usuário\", placeholder=\"Ex: Ana\")\n",
    "        email_input = gr.Textbox(label=\"📩 Email\", placeholder=\"Ex: ana@email.com\")\n",
    "\n",
    "    btn = gr.Button(\"📊 Gerar Relatórios\")\n",
    "\n",
    "    status = gr.Textbox(label=\"Status\", interactive=False)\n",
    "    grafico1 = gr.Plot(label=\"🎫 Compras por Evento\")\n",
    "    grafico2 = gr.Plot(label=\"👤 Compras por Usuário\")\n",
    "    grafico3 = gr.Plot(label=\"📆 Compras por Data\")\n",
    "    grafico4 = gr.Plot(label=\"🥧 Distribuição por Evento\")\n",
    "\n",
    "    btn.click(\n",
    "        fn=gerar_dashboard_ingressos,\n",
    "        inputs=[email_input, nome_input, id_input],\n",
    "        outputs=[status, grafico1, grafico2, grafico3, grafico4]\n",
    "    )\n",
    "\n",
    "app.launch()\n"
   ]
  }
 ],
 "metadata": {
  "kernelspec": {
   "display_name": "Python 3 (ipykernel)",
   "language": "python",
   "name": "python3"
  },
  "language_info": {
   "codemirror_mode": {
    "name": "ipython",
    "version": 3
   },
   "file_extension": ".py",
   "mimetype": "text/x-python",
   "name": "python",
   "nbconvert_exporter": "python",
   "pygments_lexer": "ipython3",
   "version": "3.12.0"
  }
 },
 "nbformat": 4,
 "nbformat_minor": 5
}
