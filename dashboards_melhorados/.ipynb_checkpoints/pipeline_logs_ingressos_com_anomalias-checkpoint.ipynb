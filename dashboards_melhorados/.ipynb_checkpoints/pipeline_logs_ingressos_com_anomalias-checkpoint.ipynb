{
 "cells": [
  {
   "cell_type": "markdown",
   "id": "18befc37",
   "metadata": {},
   "source": [
    "# 🤖 Detecção de Anomalias com Isolation Forest"
   ]
  },
  {
   "cell_type": "code",
   "execution_count": null,
   "id": "be045bb1",
   "metadata": {},
   "outputs": [],
   "source": [
    "import pandas as pd\n",
    "from sklearn.ensemble import IsolationForest\n",
    "\n",
    "logs = pd.read_csv('../logs/user_logs.csv')\n",
    "\n",
    "logs['session_duration'] = (logs['session_duration'] - logs['session_duration'].min()) / (logs['session_duration'].max() - logs['session_duration'].min())\n",
    "logs['pages_visited'] = (logs['pages_visited'] - logs['pages_visited'].min()) / (logs['pages_visited'].max() - logs['pages_visited'].min())\n",
    "\n",
    "model = IsolationForest(contamination=0.2)\n",
    "logs['anomaly_score'] = model.fit_predict(logs[['session_duration', 'pages_visited']])\n",
    "logs['classification'] = logs['anomaly_score'].apply(lambda x: 'Normal' if x == 1 else 'Suspeito')\n",
    "logs.head()"
   ]
  }
 ],
 "metadata": {},
 "nbformat": 4,
 "nbformat_minor": 5
}
