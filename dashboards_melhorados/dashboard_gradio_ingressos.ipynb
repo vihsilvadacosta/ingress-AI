{
 "cells": [
  {
   "cell_type": "markdown",
   "id": "aecbe215",
   "metadata": {},
   "source": [
    "# 🧪 Interface Gradio para Explorar Logs"
   ]
  },
  {
   "cell_type": "code",
   "execution_count": 1,
   "id": "b8a465b3",
   "metadata": {
    "scrolled": true
   },
   "outputs": [
    {
     "name": "stdout",
     "output_type": "stream",
     "text": [
      "* Running on local URL:  http://127.0.0.1:7860\n",
      "* To create a public link, set `share=True` in `launch()`.\n"
     ]
    },
    {
     "data": {
      "text/html": [
       "<div><iframe src=\"http://127.0.0.1:7860/\" width=\"100%\" height=\"500\" allow=\"autoplay; camera; microphone; clipboard-read; clipboard-write;\" frameborder=\"0\" allowfullscreen></iframe></div>"
      ],
      "text/plain": [
       "<IPython.core.display.HTML object>"
      ]
     },
     "metadata": {},
     "output_type": "display_data"
    }
   ],
   "source": [
    "import sqlite3\n",
    "import pandas as pd\n",
    "import plotly.express as px\n",
    "import gradio as gr\n",
    "from sklearn.ensemble import IsolationForest\n",
    "\n",
    "# 📥 Carregar dados de compras de ingressos e aplicar IA\n",
    "def carregar_dados_ingressos_com_ia():\n",
    "    conn = sqlite3.connect(\"../database.db\")\n",
    "    query = \"\"\"\n",
    "        SELECT u.id AS usuario_id, u.nome, u.email, l.acao_usuario as acao, l.data_hora\n",
    "        FROM logs l\n",
    "        JOIN usuarios u ON u.id = l.usuario_id\n",
    "        WHERE l.acao_usuario LIKE 'Compra do ingresso ID%'\n",
    "    \"\"\"\n",
    "    df = pd.read_sql_query(query, conn)\n",
    "    conn.close()\n",
    "\n",
    "    df['data_hora'] = pd.to_datetime(df['data_hora'])\n",
    "    df['evento'] = df['acao'].str.replace(\"Compra do ingresso ID \", \"Ingresso \")\n",
    "    df['data'] = df['data_hora'].dt.date\n",
    "\n",
    "    # 🧠 IA: Isolation Forest\n",
    "    df_features = df.groupby(['usuario_id', 'nome', 'email']).agg(\n",
    "        total_compras=('evento', 'count'),\n",
    "        dias_diferentes=('data', pd.Series.nunique)\n",
    "    ).reset_index()\n",
    "\n",
    "    modelo = IsolationForest(contamination=0.15, random_state=42)\n",
    "    df_features['classificacao'] = modelo.fit_predict(df_features[['total_compras', 'dias_diferentes']])\n",
    "    df_features['classificacao'] = df_features['classificacao'].map({1: 'Normal', -1: 'Anômalo'})\n",
    "\n",
    "    # Junta classificação de volta ao dataset original\n",
    "    df = pd.merge(df, df_features[['usuario_id', 'classificacao']], on='usuario_id', how='left')\n",
    "\n",
    "    return df\n",
    "\n",
    "# 🎯 Gerar gráficos com filtros\n",
    "def gerar_dashboard(email=\"\", nome=\"\", usuario_id=\"\"):\n",
    "    df = carregar_dados_ingressos_com_ia()\n",
    "\n",
    "    if email:\n",
    "        df = df[df['email'].str.contains(email, case=False, na=False)]\n",
    "    if nome:\n",
    "        df = df[df['nome'].str.contains(nome, case=False, na=False)]\n",
    "    if usuario_id:\n",
    "        try:\n",
    "            usuario_id = int(usuario_id)\n",
    "            df = df[df['usuario_id'] == usuario_id]\n",
    "        except:\n",
    "            return \"⚠️ ID inválido.\", None, None, None, None\n",
    "\n",
    "    if df.empty:\n",
    "        return \"⚠️ Nenhuma compra encontrada com os filtros aplicados.\", None, None, None, None\n",
    "\n",
    "    # 🎫 Compras por evento\n",
    "    evento_count = df['evento'].value_counts().reset_index()\n",
    "    evento_count.columns = ['Evento', 'Quantidade']\n",
    "    fig1 = px.bar(evento_count, x='Evento', y='Quantidade', title='🎫 Compras por Evento')\n",
    "\n",
    "    # 👤 Compras por usuário\n",
    "    user_count = df.groupby(['nome', 'classificacao'])['evento'].count().reset_index(name='Compras')\n",
    "    fig2 = px.bar(user_count, x='nome', y='Compras', color='classificacao',\n",
    "                  title='👤 Compras por Usuário (com Classificação)')\n",
    "\n",
    "    # 📅 Evolução por data\n",
    "    data_count = df['data'].value_counts().sort_index().reset_index()\n",
    "    data_count.columns = ['Data', 'Quantidade']\n",
    "    data_count['Data'] = data_count['Data'].apply(lambda d: d.strftime('%d/%m/%Y'))\n",
    "    fig3 = px.line(data_count, x='Data', y='Quantidade', markers=True, title='📆 Compras por Data')\n",
    "\n",
    "    # 🥧 Pizza por classificação\n",
    "    class_count = df['classificacao'].value_counts().reset_index()\n",
    "    class_count.columns = ['Classificação', 'Quantidade']\n",
    "    fig4 = px.pie(class_count, names='Classificação', values='Quantidade',\n",
    "                  title='🥧 Distribuição das Classificações (IA)')\n",
    "\n",
    "    return \"✅ Dados carregados com sucesso!\", fig1, fig2, fig3, fig4\n",
    "\n",
    "# 🌐 Interface Gradio alternativa com gr.Interface\n",
    "interface = gr.Interface(\n",
    "    fn=gerar_dashboard,\n",
    "    inputs=[\n",
    "        gr.Textbox(label=\"📩 Email\"),\n",
    "        gr.Textbox(label=\"👤 Nome do Usuário\"),\n",
    "        gr.Textbox(label=\"🆔 ID do Usuário\")\n",
    "    ],\n",
    "    outputs=[\n",
    "        gr.Textbox(label=\"Status\"),\n",
    "        gr.Plot(label=\"🎫 Compras por Evento\"),\n",
    "        gr.Plot(label=\"👤 Compras por Usuário\"),\n",
    "        gr.Plot(label=\"📆 Compras por Data\"),\n",
    "        gr.Plot(label=\"🥧 Classificação por IA\")\n",
    "    ],\n",
    "    title=\"🎟️ Dashboard de Compras de Ingressos com Detecção de Anomalias (IA)\",\n",
    "    description=\"Use os filtros para analisar o comportamento de compra e identificar possíveis anomalias com Isolation Forest.\"\n",
    ")\n",
    "\n",
    "# 🚀 Lançar app\n",
    "if __name__ == \"__main__\":\n",
    "    interface.launch()\n"
   ]
  }
 ],
 "metadata": {
  "kernelspec": {
   "display_name": "Python 3 (ipykernel)",
   "language": "python",
   "name": "python3"
  },
  "language_info": {
   "codemirror_mode": {
    "name": "ipython",
    "version": 3
   },
   "file_extension": ".py",
   "mimetype": "text/x-python",
   "name": "python",
   "nbconvert_exporter": "python",
   "pygments_lexer": "ipython3",
   "version": "3.12.0"
  }
 },
 "nbformat": 4,
 "nbformat_minor": 5
}
